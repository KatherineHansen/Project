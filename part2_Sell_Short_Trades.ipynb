{
 "cells": [
  {
   "cell_type": "markdown",
   "metadata": {},
   "source": [
    "## IMPORTS"
   ]
  },
  {
   "cell_type": "code",
   "execution_count": 1,
   "metadata": {},
   "outputs": [],
   "source": [
    "import re\n",
    "from composable import pipeable"
   ]
  },
  {
   "cell_type": "markdown",
   "metadata": {},
   "source": [
    "## DATA"
   ]
  },
  {
   "cell_type": "code",
   "execution_count": 2,
   "metadata": {},
   "outputs": [],
   "source": [
    "with open('Sell Short Trades.txt') as f:\n",
    "    lines = f.readlines()"
   ]
  },
  {
   "cell_type": "markdown",
   "metadata": {},
   "source": [
    "## REMOVE UNWANTED LINES"
   ]
  },
  {
   "cell_type": "code",
   "execution_count": 3,
   "metadata": {},
   "outputs": [],
   "source": [
    "is_blank = lambda l: len(l.strip()) == 0\n",
    "\n",
    "Page = re.compile('^\\s+\\d+ of 77\\s+$')\n",
    "is_page_num_line = lambda l: bool(Page.match(l))\n",
    "\n",
    "Header1 = re.compile(' Symbol   Side    Cxl      Qty    Price       Bid        Ask        T-DatS-DatTradeID      TradeTiSS      Exbkr \\n')\n",
    "Header2 = re.compile(' TradeCommType  SourceCommission   Account   OrderID      GTL               Trailer Info               Clr      \\n')\n",
    "is_header = lambda l: bool(Header1.match(l) or Header2.match(l))\n",
    "\n",
    "Pages_gone = lambda l: is_blank(l) or is_page_num_line(l) or is_header(l)\n",
    "culled_lines = [l for l in lines if not Pages_gone(l)]\n",
    "culled_lines = culled_lines[3:-2]\n",
    "\n",
    "output = ''.join(culled_lines)\n",
    "with open('part2_Sell_Short_Trades_extra_removed.csv', 'w') as out_file:\n",
    "    out_file.write(output)"
   ]
  },
  {
   "cell_type": "markdown",
   "metadata": {},
   "source": [
    "## USING DATA WITHOUT UNWANTED LINES"
   ]
  },
  {
   "cell_type": "code",
   "execution_count": 4,
   "metadata": {},
   "outputs": [],
   "source": [
    "with open('part2_Sell_Short_Trades_extra_removed.csv') as f:\n",
    "    Trades = f.read()"
   ]
  },
  {
   "cell_type": "markdown",
   "metadata": {},
   "source": [
    "## GROUPING LINES"
   ]
  },
  {
   "cell_type": "code",
   "execution_count": 5,
   "metadata": {},
   "outputs": [],
   "source": [
    "cers_split = pipeable(lambda s: s.split(' CERS') )\n",
    "cers_add = pipeable(lambda l: ['CERS'+row for row in l])\n",
    "\n",
    "s_split = pipeable(lambda l: [row.split('\\n S') for row in l])\n",
    "s_add = pipeable(lambda l: ['S'+row for row in l])\n",
    "\n",
    "s = re.compile(r'\\n S')\n",
    "has_s = lambda l: bool(s.search(l))\n",
    "\n",
    "\n",
    "flatten = pipeable(lambda l: [item for sublist in l for item in sublist])\n",
    "\n",
    "scers = re.compile(r'^SCERS.+')\n",
    "has_scers = lambda s: bool(scers.match(s))\n",
    "rid_Scers = pipeable(lambda l: [line[1:] if has_scers(line) == True else line for line in l])\n",
    "\n",
    "rid_n = pipeable(lambda l: [row.replace('\\n','') for row in l])\n",
    "\n",
    "\n",
    "grouped = (Trades\n",
    ">> cers_split\n",
    ">> cers_add\n",
    ">> s_split \n",
    ">> flatten\n",
    ">> s_add\n",
    ">> rid_Scers\n",
    ">> rid_n\n",
    ")\n",
    "\n",
    "joined = '\\n'.join(grouped[1:])\n",
    "with open('part2_Sell_Short_Trades_grouped.csv', 'w') as out_file:\n",
    "    out_file.write(joined)"
   ]
  },
  {
   "cell_type": "code",
   "execution_count": null,
   "metadata": {},
   "outputs": [],
   "source": []
  },
  {
   "cell_type": "code",
   "execution_count": null,
   "metadata": {},
   "outputs": [],
   "source": []
  },
  {
   "cell_type": "code",
   "execution_count": null,
   "metadata": {},
   "outputs": [],
   "source": []
  }
 ],
 "metadata": {
  "kernelspec": {
   "display_name": "Python 3",
   "language": "python",
   "name": "python3"
  },
  "language_info": {
   "codemirror_mode": {
    "name": "ipython",
    "version": 3
   },
   "file_extension": ".py",
   "mimetype": "text/x-python",
   "name": "python",
   "nbconvert_exporter": "python",
   "pygments_lexer": "ipython3",
   "version": "3.7.6"
  }
 },
 "nbformat": 4,
 "nbformat_minor": 2
}
